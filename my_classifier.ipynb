{
 "cells": [
  {
   "cell_type": "code",
   "execution_count": 1,
   "metadata": {},
   "outputs": [],
   "source": [
    "import pandas as pd\n",
    "import spacy\n",
    "from Zen2Han import normalize\n",
    "\n",
    "import numpy as np\n",
    "from sklearn.feature_extraction.text import CountVectorizer\n",
    "from sklearn.feature_extraction.text import TfidfVectorizer\n",
    "from sklearn.svm import SVC\n",
    "from sklearn.metrics import classification_report"
   ]
  },
  {
   "cell_type": "markdown",
   "metadata": {},
   "source": [
    "GiNZA による品詞分解"
   ]
  },
  {
   "cell_type": "code",
   "execution_count": 2,
   "metadata": {},
   "outputs": [],
   "source": [
    "nlp = spacy.load('ja_ginza_nopn')\n",
    "def wakati(sentence):\n",
    "    s = normalize(sentence)\n",
    "    doc = nlp(s)\n",
    "    sep_s = ' '.join([t.text for t in doc])\n",
    "    return sep_s"
   ]
  },
  {
   "cell_type": "markdown",
   "metadata": {},
   "source": [
    "csv形式のデータをDataFrameで取得"
   ]
  },
  {
   "cell_type": "code",
   "execution_count": 3,
   "metadata": {},
   "outputs": [],
   "source": [
    "def get_df(name):\n",
    "    df = pd.read_csv('./data/{}.csv'.format(name), index_col=0, encoding='utf-8-sig')\n",
    "    return df"
   ]
  },
  {
   "cell_type": "markdown",
   "metadata": {},
   "source": [
    "DataFrameから質問文(X)と資料番号(y)を抽出"
   ]
  },
  {
   "cell_type": "code",
   "execution_count": 4,
   "metadata": {},
   "outputs": [],
   "source": [
    "def data_prepro(df):\n",
    "    X = np.empty((0,1),np.string_)\n",
    "    y = np.empty((0,1),np.string_)\n",
    "    for key, row in df.iterrows():\n",
    "        d,q = row['document'], row['question']\n",
    "        if not d or not q:\n",
    "            continue\n",
    "        sep_q = wakati(q)\n",
    "        \n",
    "        X = np.append(X, sep_q)\n",
    "        y = np.append(y, d)\n",
    "    return X, y"
   ]
  },
  {
   "cell_type": "markdown",
   "metadata": {},
   "source": [
    "各データの準備"
   ]
  },
  {
   "cell_type": "code",
   "execution_count": 5,
   "metadata": {},
   "outputs": [
    {
     "name": "stdout",
     "output_type": "stream",
     "text": [
      "['黄色い ごみ袋 を 使っ て も いい です か 。' '色 付き の ごみ袋 を 使っ て も いい です か 。'\n",
      " '京都市 指定 の ごみ袋 を 用い て いい です か 。' 'ゴミ袋 に は 何色 の もの を 使用 すれ ば いい です か 。'\n",
      " '京都市 の 家庭 ごみ 用 の 袋 を 使用 でき ます か 。'\n",
      " '灰色 の ごみ袋 を 使っ たら 怒ら れ まし た 。 なぜ でしょう か 。' 'レジ 袋 で 捨て て も いい です か 。'\n",
      " '大学 指定 の ごみ袋 は 何 です か 。' '大学 で 使える ゴミ袋 は 何 です か 。'\n",
      " 'ごみ袋 は どの よう な もの を 使え ば よい です か 。']\n",
      "[b'1' b'1' b'1' b'1' b'1' b'1' b'1' b'1' b'1' b'1']\n",
      "(1480,) (1480,)\n"
     ]
    }
   ],
   "source": [
    "# training + validation\n",
    "X_train, y_train = data_prepro(get_df('train_qa'))\n",
    "X_dev, y_dev = data_prepro(get_df('dev_qa'))\n",
    "X = np.hstack((X_train, X_dev))\n",
    "y = np.hstack((y_train, y_dev))\n",
    "print(X[0:10])\n",
    "print(y[0:10])\n",
    "print(X.shape, y.shape)"
   ]
  },
  {
   "cell_type": "code",
   "execution_count": 6,
   "metadata": {},
   "outputs": [
    {
     "name": "stdout",
     "output_type": "stream",
     "text": [
      "['ゴミ袋 は 京都市 の ゴミ袋 です か 。' 'ごみ は 何 時 に 回収 し ます か 。'\n",
      " '冷蔵庫 は どこ に 捨てれ ば いい です か 。' '燃やす ゴミ で 捨て られる もの は 何 です か 。'\n",
      " '段 ボール は どの よう に 捨てれ ば いい です か 。' 'ペットボトル は どう やっ て 捨てれ ば いい です か 。'\n",
      " '産業廃棄物 に 紙 類 は 含ま れ ます か 。' '実験 系 プラスチック と は 何 です か 。'\n",
      " '大型 ごみ 集積 所 は どこ です か 。' '大型 ごみ に 蛍光灯 は 含ま れ ます か 。']\n",
      "[b'1' b'1' b'1' b'1' b'1' b'1' b'1' b'1' b'1' b'1']\n",
      "(94,) (94,)\n"
     ]
    }
   ],
   "source": [
    "# test\n",
    "Xe, ye = data_prepro(get_df('test_qa'))\n",
    "print(Xe[0:10])\n",
    "print(ye[0:10])\n",
    "print(Xe.shape, ye.shape)"
   ]
  },
  {
   "cell_type": "markdown",
   "metadata": {},
   "source": [
    "## SVMでの学習"
   ]
  },
  {
   "cell_type": "code",
   "execution_count": 7,
   "metadata": {},
   "outputs": [
    {
     "data": {
      "text/plain": [
       "SVC(C=1.0, cache_size=200, class_weight='balanced', coef0=0.0,\n",
       "  decision_function_shape='ovr', degree=3, gamma='auto_deprecated',\n",
       "  kernel='linear', max_iter=-1, probability=False, random_state=None,\n",
       "  shrinking=True, tol=0.001, verbose=False)"
      ]
     },
     "execution_count": 7,
     "metadata": {},
     "output_type": "execute_result"
    }
   ],
   "source": [
    "clf = SVC(kernel='linear', class_weight = 'balanced')\n",
    "clf"
   ]
  },
  {
   "cell_type": "code",
   "execution_count": 8,
   "metadata": {},
   "outputs": [
    {
     "data": {
      "text/plain": [
       "['1', '2', '3', '4', '5', '6', '7', '8', '9', '10']"
      ]
     },
     "execution_count": 8,
     "metadata": {},
     "output_type": "execute_result"
    }
   ],
   "source": [
    "labels = [str(i+1) for i in range(10)]\n",
    "labels"
   ]
  },
  {
   "cell_type": "markdown",
   "metadata": {},
   "source": [
    "## SVM + CountVectorizer"
   ]
  },
  {
   "cell_type": "code",
   "execution_count": 9,
   "metadata": {},
   "outputs": [
    {
     "name": "stdout",
     "output_type": "stream",
     "text": [
      "750\n",
      "              precision    recall  f1-score   support\n",
      "\n",
      "           1       0.91      1.00      0.95        10\n",
      "           2       1.00      1.00      1.00        10\n",
      "           3       1.00      1.00      1.00         9\n",
      "           4       1.00      1.00      1.00        11\n",
      "           5       1.00      1.00      1.00        11\n",
      "           6       0.89      1.00      0.94         8\n",
      "           7       1.00      0.78      0.88         9\n",
      "           8       1.00      1.00      1.00         9\n",
      "           9       1.00      1.00      1.00         7\n",
      "          10       1.00      1.00      1.00        10\n",
      "\n",
      "   micro avg       0.98      0.98      0.98        94\n",
      "   macro avg       0.98      0.98      0.98        94\n",
      "weighted avg       0.98      0.98      0.98        94\n",
      "\n"
     ]
    }
   ],
   "source": [
    "vectorizer = CountVectorizer(min_df=2)\n",
    "Xv = vectorizer.fit_transform(X)\n",
    "print(Xv.shape[1])\n",
    "Xev = vectorizer.transform(Xe)\n",
    "clf = clf.fit(Xv, y)\n",
    "print(classification_report(ye, clf.predict(Xev), target_names=labels))"
   ]
  },
  {
   "cell_type": "code",
   "execution_count": 10,
   "metadata": {},
   "outputs": [
    {
     "name": "stdout",
     "output_type": "stream",
     "text": [
      "748\n",
      "              precision    recall  f1-score   support\n",
      "\n",
      "           1       0.91      1.00      0.95        10\n",
      "           2       1.00      1.00      1.00        10\n",
      "           3       1.00      1.00      1.00         9\n",
      "           4       1.00      1.00      1.00        11\n",
      "           5       1.00      1.00      1.00        11\n",
      "           6       0.89      1.00      0.94         8\n",
      "           7       1.00      0.78      0.88         9\n",
      "           8       1.00      1.00      1.00         9\n",
      "           9       1.00      1.00      1.00         7\n",
      "          10       1.00      1.00      1.00        10\n",
      "\n",
      "   micro avg       0.98      0.98      0.98        94\n",
      "   macro avg       0.98      0.98      0.98        94\n",
      "weighted avg       0.98      0.98      0.98        94\n",
      "\n"
     ]
    }
   ],
   "source": [
    "vectorizer = CountVectorizer(min_df=2, max_df=0.3)\n",
    "Xv2 = vectorizer.fit_transform(X)\n",
    "print(Xv2.shape[1])\n",
    "Xev2 = vectorizer.transform(Xe)\n",
    "clf = clf.fit(Xv2, y)\n",
    "print(classification_report(ye, clf.predict(Xev2), target_names=labels))"
   ]
  },
  {
   "cell_type": "markdown",
   "metadata": {},
   "source": [
    "## SVM + tfidf"
   ]
  },
  {
   "cell_type": "code",
   "execution_count": 11,
   "metadata": {},
   "outputs": [
    {
     "name": "stdout",
     "output_type": "stream",
     "text": [
      "748\n",
      "              precision    recall  f1-score   support\n",
      "\n",
      "           1       1.00      1.00      1.00        10\n",
      "           2       1.00      1.00      1.00        10\n",
      "           3       1.00      1.00      1.00         9\n",
      "           4       1.00      1.00      1.00        11\n",
      "           5       1.00      1.00      1.00        11\n",
      "           6       1.00      1.00      1.00         8\n",
      "           7       1.00      1.00      1.00         9\n",
      "           8       1.00      1.00      1.00         9\n",
      "           9       1.00      1.00      1.00         7\n",
      "          10       1.00      1.00      1.00        10\n",
      "\n",
      "   micro avg       1.00      1.00      1.00        94\n",
      "   macro avg       1.00      1.00      1.00        94\n",
      "weighted avg       1.00      1.00      1.00        94\n",
      "\n"
     ]
    }
   ],
   "source": [
    "vectorizer = TfidfVectorizer(min_df=2, max_df=0.3)\n",
    "Xv2 = vectorizer.fit_transform(X)\n",
    "print(Xv2.shape[1])\n",
    "Xev2 = vectorizer.transform(Xe)\n",
    "clf = clf.fit(Xv2, y)\n",
    "print(classification_report(ye, clf.predict(Xev2), target_names=labels))"
   ]
  },
  {
   "cell_type": "code",
   "execution_count": null,
   "metadata": {},
   "outputs": [],
   "source": []
  }
 ],
 "metadata": {
  "kernelspec": {
   "display_name": "Python 3",
   "language": "python",
   "name": "python3"
  },
  "language_info": {
   "codemirror_mode": {
    "name": "ipython",
    "version": 3
   },
   "file_extension": ".py",
   "mimetype": "text/x-python",
   "name": "python",
   "nbconvert_exporter": "python",
   "pygments_lexer": "ipython3",
   "version": "3.6.6"
  }
 },
 "nbformat": 4,
 "nbformat_minor": 2
}
