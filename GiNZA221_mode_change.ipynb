{
 "cells": [
  {
   "cell_type": "markdown",
   "metadata": {},
   "source": [
    "# ライブラリのインポート\n",
    "GiNZA version = 2.2.1\n",
    "\n",
    "モード切替用の引数取得のために、sudachipy から Tokenizer を import。\n",
    "名前はオリジナルコードに合わせている。\n",
    "sudachipy は GiNZA を pip したときに一緒に入ってるっぽい。"
   ]
  },
  {
   "cell_type": "code",
   "execution_count": 1,
   "metadata": {},
   "outputs": [],
   "source": [
    "import spacy\n",
    "from sudachipy.tokenizer import Tokenizer as OriginalTokenizer"
   ]
  },
  {
   "cell_type": "markdown",
   "metadata": {},
   "source": [
    "GiNZA 読み込み"
   ]
  },
  {
   "cell_type": "code",
   "execution_count": 2,
   "metadata": {},
   "outputs": [],
   "source": [
    "nlp = spacy.load('ja_ginza')"
   ]
  },
  {
   "cell_type": "code",
   "execution_count": 3,
   "metadata": {},
   "outputs": [
    {
     "data": {
      "text/plain": [
       "<SplitMode.C: 3>"
      ]
     },
     "execution_count": 3,
     "metadata": {},
     "output_type": "execute_result"
    }
   ],
   "source": [
    "nlp.tokenizer.tokenizer._mode"
   ]
  },
  {
   "cell_type": "markdown",
   "metadata": {},
   "source": [
    "# モード変更\n",
    "モードA: OriginalTokenizer.SplitMode.A\n",
    "\n",
    "モードB: OriginalTokenizer.SplitMode.B\n",
    "\n",
    "モードC: OriginalTokenizer.SplitMode.C"
   ]
  },
  {
   "cell_type": "code",
   "execution_count": 4,
   "metadata": {},
   "outputs": [
    {
     "data": {
      "text/plain": [
       "<SplitMode.A: 1>"
      ]
     },
     "execution_count": 4,
     "metadata": {},
     "output_type": "execute_result"
    }
   ],
   "source": [
    "nlp.tokenizer.tokenizer._mode = OriginalTokenizer.SplitMode.A\n",
    "nlp.tokenizer.tokenizer._mode"
   ]
  },
  {
   "cell_type": "markdown",
   "metadata": {},
   "source": [
    "# モード変更確認\n",
    "本当に各モードで区切り方が異なるかの確認。"
   ]
  },
  {
   "cell_type": "code",
   "execution_count": 5,
   "metadata": {},
   "outputs": [
    {
     "data": {
      "text/plain": [
       "<SplitMode.A: 1>"
      ]
     },
     "execution_count": 5,
     "metadata": {},
     "output_type": "execute_result"
    }
   ],
   "source": [
    "# mode A\n",
    "nlp_A = spacy.load('ja_ginza')\n",
    "nlp_A.tokenizer.tokenizer._mode = OriginalTokenizer.SplitMode.A\n",
    "nlp_A.tokenizer.tokenizer._mode"
   ]
  },
  {
   "cell_type": "code",
   "execution_count": 6,
   "metadata": {},
   "outputs": [
    {
     "data": {
      "text/plain": [
       "<SplitMode.B: 2>"
      ]
     },
     "execution_count": 6,
     "metadata": {},
     "output_type": "execute_result"
    }
   ],
   "source": [
    "# mode B\n",
    "nlp_B = spacy.load('ja_ginza')\n",
    "nlp_B.tokenizer.tokenizer._mode = OriginalTokenizer.SplitMode.B\n",
    "nlp_B.tokenizer.tokenizer._mode"
   ]
  },
  {
   "cell_type": "code",
   "execution_count": 7,
   "metadata": {},
   "outputs": [
    {
     "data": {
      "text/plain": [
       "<SplitMode.C: 3>"
      ]
     },
     "execution_count": 7,
     "metadata": {},
     "output_type": "execute_result"
    }
   ],
   "source": [
    "# mode C\n",
    "nlp_C = spacy.load('ja_ginza')\n",
    "nlp_C.tokenizer.tokenizer._mode = OriginalTokenizer.SplitMode.C\n",
    "nlp_C.tokenizer.tokenizer._mode"
   ]
  },
  {
   "cell_type": "code",
   "execution_count": 8,
   "metadata": {},
   "outputs": [],
   "source": [
    "nlps = [\n",
    "    nlp_A,\n",
    "    nlp_B,\n",
    "    nlp_C\n",
    "]"
   ]
  },
  {
   "cell_type": "code",
   "execution_count": 9,
   "metadata": {},
   "outputs": [
    {
     "name": "stdout",
     "output_type": "stream",
     "text": [
      "SplitMode.A\n",
      "京都 府 京都 市 左京 区 松ヶ崎\n",
      "SplitMode.B\n",
      "京都府 京都市 左京区 松ヶ崎\n",
      "SplitMode.C\n",
      "京都府京都市左京区 松ヶ崎\n"
     ]
    }
   ],
   "source": [
    "for nlp in nlps:\n",
    "    doc = nlp('京都府京都市左京区松ヶ崎')\n",
    "    print(nlp.tokenizer.tokenizer._mode)\n",
    "    print(' '.join([token.text for token in doc]))"
   ]
  },
  {
   "cell_type": "code",
   "execution_count": null,
   "metadata": {},
   "outputs": [],
   "source": []
  }
 ],
 "metadata": {
  "kernelspec": {
   "display_name": "Python 3",
   "language": "python",
   "name": "python3"
  },
  "language_info": {
   "codemirror_mode": {
    "name": "ipython",
    "version": 3
   },
   "file_extension": ".py",
   "mimetype": "text/x-python",
   "name": "python",
   "nbconvert_exporter": "python",
   "pygments_lexer": "ipython3",
   "version": "3.7.3"
  }
 },
 "nbformat": 4,
 "nbformat_minor": 2
}
