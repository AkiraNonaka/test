{
 "cells": [
  {
   "cell_type": "markdown",
   "metadata": {},
   "source": [
    "## ライブラリのインポート\n",
    "\n",
    "モード切替用の引数取得のために、sudachipy から Tokenizer を import。  \n",
    "名前はオリジナルコードに合わせている。  \n",
    "sudachipy は GiNZA を pip したときに一緒に入ってるっぽい。  "
   ]
  },
  {
   "cell_type": "code",
   "execution_count": 1,
   "metadata": {},
   "outputs": [],
   "source": [
    "import spacy\n",
    "from sudachipy.tokenizer import Tokenizer as OriginalTokenizer"
   ]
  },
  {
   "cell_type": "markdown",
   "metadata": {},
   "source": [
    "GiNZA 読み込み"
   ]
  },
  {
   "cell_type": "code",
   "execution_count": 2,
   "metadata": {},
   "outputs": [],
   "source": [
    "nlp = spacy.load('ja_ginza_nopn')"
   ]
  },
  {
   "cell_type": "markdown",
   "metadata": {},
   "source": [
    "デフォルトモード確認"
   ]
  },
  {
   "cell_type": "code",
   "execution_count": 3,
   "metadata": {},
   "outputs": [
    {
     "data": {
      "text/plain": [
       "<SplitMode.C: 3>"
      ]
     },
     "execution_count": 3,
     "metadata": {},
     "output_type": "execute_result"
    }
   ],
   "source": [
    "nlp.tokenizer.mode"
   ]
  },
  {
   "cell_type": "markdown",
   "metadata": {},
   "source": [
    "# モード変更\n",
    "\n",
    "モードA: OriginalTokenizer.SplitMode.A\n",
    "\n",
    "モードB: OriginalTokenizer.SplitMode.B\n",
    "\n",
    "モードC: OriginalTokenizer.SplitMode.C\n",
    "\n"
   ]
  },
  {
   "cell_type": "code",
   "execution_count": 4,
   "metadata": {},
   "outputs": [
    {
     "data": {
      "text/plain": [
       "<SplitMode.A: 1>"
      ]
     },
     "execution_count": 4,
     "metadata": {},
     "output_type": "execute_result"
    }
   ],
   "source": [
    "nlp.tokenizer.mode = OriginalTokenizer.SplitMode.A\n",
    "nlp.tokenizer.mode"
   ]
  },
  {
   "cell_type": "markdown",
   "metadata": {},
   "source": [
    "サンプルコード踏襲"
   ]
  },
  {
   "cell_type": "code",
   "execution_count": 5,
   "metadata": {},
   "outputs": [
    {
     "name": "stdout",
     "output_type": "stream",
     "text": [
      "0 依存 依存 NOUN compound 2\n",
      "1 構造 構造 NOUN compound 2\n",
      "2 解析 解析 NOUN nmod 4\n",
      "3 の の ADP case 2\n",
      "4 実験 実験 NOUN obj 6\n",
      "5 を を ADP case 4\n",
      "6 行っ 行う VERB root 6\n",
      "7 て て SCONJ mark 6\n",
      "8 い 居る AUX aux 6\n",
      "9 ます ます AUX aux 6\n",
      "10 。 。 PUNCT punct 6\n",
      "EOS\n"
     ]
    }
   ],
   "source": [
    "doc = nlp('依存構造解析の実験を行っています。')\n",
    "for sent in doc.sents:\n",
    "    for token in sent:\n",
    "        print(token.i, token.orth_, token.lemma_, token.pos_, token.dep_, token.head.i)\n",
    "    print('EOS')"
   ]
  },
  {
   "cell_type": "markdown",
   "metadata": {},
   "source": [
    "# モード変更確認\n",
    "本当に各モードで区切り方が異なるかの確認。"
   ]
  },
  {
   "cell_type": "code",
   "execution_count": 6,
   "metadata": {},
   "outputs": [
    {
     "data": {
      "text/plain": [
       "(<spacy.lang.ja_ginza.Japanese at 0x36c59860>, <SplitMode.A: 1>)"
      ]
     },
     "execution_count": 6,
     "metadata": {},
     "output_type": "execute_result"
    }
   ],
   "source": [
    "# mode A\n",
    "nlp_A = spacy.load('ja_ginza_nopn')\n",
    "nlp_A.tokenizer.mode = OriginalTokenizer.SplitMode.A\n",
    "nlp_A, nlp_A.tokenizer.mode"
   ]
  },
  {
   "cell_type": "code",
   "execution_count": 7,
   "metadata": {},
   "outputs": [
    {
     "data": {
      "text/plain": [
       "(<spacy.lang.ja_ginza.Japanese at 0x5ca0feb8>, <SplitMode.B: 2>)"
      ]
     },
     "execution_count": 7,
     "metadata": {},
     "output_type": "execute_result"
    }
   ],
   "source": [
    "# mode B\n",
    "nlp_B = spacy.load('ja_ginza_nopn')\n",
    "nlp_B.tokenizer.mode = OriginalTokenizer.SplitMode.B\n",
    "nlp_B, nlp_B.tokenizer.mode"
   ]
  },
  {
   "cell_type": "code",
   "execution_count": 8,
   "metadata": {},
   "outputs": [
    {
     "data": {
      "text/plain": [
       "(<spacy.lang.ja_ginza.Japanese at 0x73f71748>, <SplitMode.C: 3>)"
      ]
     },
     "execution_count": 8,
     "metadata": {},
     "output_type": "execute_result"
    }
   ],
   "source": [
    "# mode C\n",
    "nlp_C = spacy.load('ja_ginza_nopn')\n",
    "nlp_C.tokenizer.mode = OriginalTokenizer.SplitMode.C\n",
    "nlp_C, nlp_C.tokenizer.mode"
   ]
  },
  {
   "cell_type": "code",
   "execution_count": 9,
   "metadata": {},
   "outputs": [],
   "source": [
    "nlps = [\n",
    "    nlp_A,\n",
    "    nlp_B,\n",
    "    nlp_C\n",
    "]"
   ]
  },
  {
   "cell_type": "code",
   "execution_count": 10,
   "metadata": {},
   "outputs": [
    {
     "name": "stdout",
     "output_type": "stream",
     "text": [
      "SplitMode.A\n",
      "京都 府 京都 市 左京 区 松ヶ崎\n",
      "SplitMode.B\n",
      "京都府 京都市 左京区 松ヶ崎\n",
      "SplitMode.C\n",
      "京都府京都市左京区 松ヶ崎\n"
     ]
    }
   ],
   "source": [
    "for nlp in nlps:\n",
    "    doc = nlp('京都府京都市左京区松ヶ崎')\n",
    "    print(nlp.tokenizer.mode)\n",
    "    print(' '.join([token.text for token in doc]))"
   ]
  },
  {
   "cell_type": "code",
   "execution_count": null,
   "metadata": {},
   "outputs": [],
   "source": []
  }
 ],
 "metadata": {
  "kernelspec": {
   "display_name": "Python 3",
   "language": "python",
   "name": "python3"
  },
  "language_info": {
   "codemirror_mode": {
    "name": "ipython",
    "version": 3
   },
   "file_extension": ".py",
   "mimetype": "text/x-python",
   "name": "python",
   "nbconvert_exporter": "python",
   "pygments_lexer": "ipython3",
   "version": "3.6.6"
  }
 },
 "nbformat": 4,
 "nbformat_minor": 2
}
